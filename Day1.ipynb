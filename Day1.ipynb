{
  "cells": [
    {
      "cell_type": "markdown",
      "metadata": {
        "id": "view-in-github",
        "colab_type": "text"
      },
      "source": [
        "<a href=\"https://colab.research.google.com/github/bavani1309/python/blob/main/Day1.ipynb\" target=\"_parent\"><img src=\"https://colab.research.google.com/assets/colab-badge.svg\" alt=\"Open In Colab\"/></a>"
      ]
    },
    {
      "cell_type": "markdown",
      "metadata": {
        "id": "slZ_SmZtCTYQ"
      },
      "source": [
        "# DAY 1 CODING"
      ]
    },
    {
      "cell_type": "code",
      "execution_count": null,
      "metadata": {
        "id": "n9fFDZH9CTYb"
      },
      "outputs": [],
      "source": [
        "# FIRST PROGRAM(This is a comment)\n",
        "\n",
        "print(\"Hello World\") "
      ]
    },
    {
      "cell_type": "markdown",
      "metadata": {
        "id": "YZLjQSfBCTYd"
      },
      "source": [
        "# Variables"
      ]
    },
    {
      "cell_type": "code",
      "execution_count": null,
      "metadata": {
        "id": "KnkpcOHzCTYe"
      },
      "outputs": [],
      "source": [
        "counter = 100 # An integer number\n",
        "miles = 1000.0 # A floating point number\n",
        "name = \"John\" # A string\n",
        "\n",
        "a = b = c = 1\n",
        "\n",
        "a, b, c = 1 ,2 , \"john\""
      ]
    },
    {
      "cell_type": "markdown",
      "metadata": {
        "id": "yQEm-PAXCTYe"
      },
      "source": [
        "Print the Variable data type"
      ]
    },
    {
      "cell_type": "code",
      "execution_count": null,
      "metadata": {
        "id": "ezmKNfF3CTYf",
        "outputId": "15811784-aeee-4e37-fd77-8ae6acb75ff5"
      },
      "outputs": [
        {
          "name": "stdout",
          "output_type": "stream",
          "text": [
            "<class 'int'>\n",
            "<class 'float'>\n",
            "<class 'str'>\n",
            "<class 'int'>\n"
          ]
        }
      ],
      "source": [
        "print(type(counter))\n",
        "print(type(miles))\n",
        "print(type(name))\n",
        "print(type(a))"
      ]
    },
    {
      "cell_type": "markdown",
      "metadata": {
        "id": "C8aROmc1CTYh"
      },
      "source": [
        "# Data types\n",
        "\n"
      ]
    },
    {
      "cell_type": "markdown",
      "metadata": {
        "id": "QkFfEyKNCTYh"
      },
      "source": [
        "# Numeric Data type"
      ]
    },
    {
      "cell_type": "code",
      "execution_count": null,
      "metadata": {
        "id": "6h1gXI9iCTYi",
        "outputId": "8a8d35de-91e4-4296-b60b-5090c387083a"
      },
      "outputs": [
        {
          "name": "stdout",
          "output_type": "stream",
          "text": [
            "10\n"
          ]
        },
        {
          "data": {
            "text/plain": [
              "int"
            ]
          },
          "execution_count": 8,
          "metadata": {},
          "output_type": "execute_result"
        }
      ],
      "source": [
        "#Integer\n",
        "print(10)\n",
        "type(10)\n"
      ]
    },
    {
      "cell_type": "code",
      "execution_count": null,
      "metadata": {
        "id": "LKqm7Sw4CTYj",
        "outputId": "600aac3e-9f97-4d77-f7b3-6fbc2be20721"
      },
      "outputs": [
        {
          "name": "stdout",
          "output_type": "stream",
          "text": [
            "21\n",
            "<class 'float'>\n",
            "8.0\n"
          ]
        }
      ],
      "source": [
        "#Float\n",
        "print(int(21.89)) \n",
        "print(type(21.89))\n",
        "print(float(8)) \n"
      ]
    },
    {
      "cell_type": "code",
      "execution_count": null,
      "metadata": {
        "id": "f7vIFKMLCTYk",
        "outputId": "afc4df79-4596-4de5-d05d-59f6b27b77f1"
      },
      "outputs": [
        {
          "name": "stdout",
          "output_type": "stream",
          "text": [
            "(2+3j)\n",
            "<class 'complex'>\n"
          ]
        }
      ],
      "source": [
        "#Complex\n",
        "print(2+3j)\n",
        "print(type(2+3j))"
      ]
    },
    {
      "cell_type": "code",
      "execution_count": null,
      "metadata": {
        "id": "jIATX_AxCTYl",
        "outputId": "c49534d4-22d7-47cb-e25f-c6113d259162"
      },
      "outputs": [
        {
          "name": "stdout",
          "output_type": "stream",
          "text": [
            "5\n",
            "6\n",
            "1\n",
            "2\n",
            "-1\n",
            "-2\n",
            "9.5\n"
          ]
        }
      ],
      "source": [
        "#BUILT IN FUNCTIONS IN NUMBER DATATYPE\n",
        "a=5\n",
        "b=6\n",
        "print(min(a,b))\n",
        "print(max(a,b))\n",
        "print(round(1.3))   # gives 1\n",
        "print(round(1.7))   # gives 2\n",
        "print(round(-1.3))  # gives -1\n",
        "print(round(-1.7))  # gives -2\n",
        "#round(number, number of digits)\n",
        "c=9.453\n",
        "print(round(c,1))"
      ]
    },
    {
      "cell_type": "code",
      "execution_count": null,
      "metadata": {
        "id": "Svpgj_JKCTYm",
        "outputId": "9db98cf6-044f-4dc9-c3e7-9d4b7710de23"
      },
      "outputs": [
        {
          "name": "stdout",
          "output_type": "stream",
          "text": [
            "1.6094379124341003\n",
            "0.6989700043360189\n",
            "1000000\n",
            "2980.9579870417283\n",
            "-9\n",
            "8\n",
            "-8\n",
            "9\n",
            "12.08\n",
            "12.08\n",
            "10\n",
            "10.0\n",
            "1.4142135623730951\n"
          ]
        }
      ],
      "source": [
        "#Mathematical Functions\n",
        "import math\n",
        "print(math.log(a))\n",
        "print(math.log10(a))\n",
        "a=10\n",
        "print(pow(a,b))\n",
        "\n",
        "d=8\n",
        "print(math.exp(d))#Returns the exponent of x\n",
        "\n",
        "print(math.floor(-8.79))#Returns smallest integer not greater than x.\n",
        "print(math.floor(8.79))\n",
        "print(math.ceil(-8.79))#Returns largest integer not greater than x.\n",
        "print(math.ceil(8.49))\n",
        "\n",
        "number = -12.08# When the input is a floating point number# \n",
        "print(abs(number)) \n",
        "print(math.fabs(number)) \n",
        "number = -10#when the variable is integer\n",
        "print(abs(number)) # abs() will return an integer as an real integer\n",
        "print(math.fabs(number)) # fabs() will return a floating point number \n",
        "\n",
        "print(math.sqrt(2))\n",
        "\n"
      ]
    },
    {
      "cell_type": "code",
      "execution_count": null,
      "metadata": {
        "id": "7YH3usINCTYn",
        "outputId": "1cd3d17c-c30d-43ef-bff0-f885c56b08f2"
      },
      "outputs": [
        {
          "name": "stdout",
          "output_type": "stream",
          "text": [
            "-0.9880316240928618\n",
            "0.15425144988758405\n",
            "-6.405331196646276\n",
            "359.99511225864757\n",
            "6.283185307179586\n"
          ]
        }
      ],
      "source": [
        "#Trignometric functions\n",
        "print(math.sin(30))\n",
        "print(math.cos(30))\n",
        "print(math.tan(30))\n",
        "print(math.degrees(6.2831))#convert radians to degrees\n",
        "print(math.radians(360))#convert degrees to radians\n",
        "\n",
        "\n",
        "#Find the area of the circle\n",
        "\n",
        "r=5#declare the radius of circle is 5cmS\n",
        "area=math.pi*r*r\n",
        "print(area)"
      ]
    },
    {
      "cell_type": "code",
      "execution_count": null,
      "metadata": {
        "id": "nkuOrcz8CTYo",
        "outputId": "15634d6a-f074-487e-aef5-d7810f1d24da"
      },
      "outputs": [
        {
          "name": "stdout",
          "output_type": "stream",
          "text": [
            "0.6032623965113961\n",
            "7\n"
          ]
        }
      ],
      "source": [
        "#Random number generation\n",
        "\n",
        "import random\n",
        "print(random.random())# Print a random number between 0 to 1\n",
        "print(random.randint(1,10))# print random numbers between the range"
      ]
    },
    {
      "cell_type": "code",
      "execution_count": null,
      "metadata": {
        "id": "lgTNGWHPCTYo",
        "outputId": "f9ac9025-10cd-4e7d-eede-edc4434c3c81"
      },
      "outputs": [
        {
          "name": "stdout",
          "output_type": "stream",
          "text": [
            "3.0\n",
            "4\n",
            "10\n",
            "180.0\n",
            "5\n"
          ]
        }
      ],
      "source": [
        "#Challenge \n",
        "#fill in the space \n",
        "\n",
        "print(math.sqrt(9))\n",
        "print(int(math.sqrt(16)))\n",
        "print(int(math.sqrt(100)))\n",
        "print(math.degrees(math.pi))\n",
        "print(random.randint(4,7))\n"
      ]
    },
    {
      "cell_type": "markdown",
      "metadata": {
        "id": "0aD532AnCTYp"
      },
      "source": [
        "# List"
      ]
    },
    {
      "cell_type": "code",
      "execution_count": null,
      "metadata": {
        "id": "Hdwx7L3LCTYp",
        "outputId": "a7016982-f599-49ea-94de-7bd740676342"
      },
      "outputs": [
        {
          "name": "stdout",
          "output_type": "stream",
          "text": [
            "['physics', 'chemistry', 1997, 2000]\n",
            "[1, 2, 3, 4, 5, 6, 7]\n"
          ]
        }
      ],
      "source": [
        "list1 = ['physics', 'chemistry', 1997, 2000]\n",
        "list2 = [1, 2, 3, 4, 5, 6, 7 ]#list start with index 0 to n-1 \n",
        "\n",
        "print(list1)\n",
        "print(list2)\n"
      ]
    },
    {
      "cell_type": "code",
      "execution_count": null,
      "metadata": {
        "id": "x4PDgHDOCTYq",
        "outputId": "f85a25fc-0f83-47a6-86a4-f5915d5bc26a"
      },
      "outputs": [
        {
          "name": "stdout",
          "output_type": "stream",
          "text": [
            "list1[0]:  physics\n",
            "list2[1:5]:  [2, 3, 4, 5]\n",
            "['physics', 'chemistry', 1997]\n",
            "[3, 4, 5, 6, 7]\n",
            "[1, 2, 3, 4, 5, 6, 7]\n"
          ]
        }
      ],
      "source": [
        "#Accessing a list\n",
        "\n",
        "print (\"list1[0]: \", list1[0])#prints the first position element in the list1\n",
        "print (\"list2[1:5]: \", list2[1:5]) #prints the element from 1st position until 4th position in the list1\n",
        "print(list1[:3])  # prints the element from starting position until 2nd position in the list 2\n",
        "print(list2[2:])  #Prints the element from 2nd position until the last value in the list 2\n",
        "print(list2[:]) #Prints the entire list2"
      ]
    },
    {
      "cell_type": "code",
      "execution_count": null,
      "metadata": {
        "id": "tcuwPKFLCTYr",
        "outputId": "ebfa3ba2-7a3e-4c56-8fd7-99cf2c17fab2"
      },
      "outputs": [
        {
          "name": "stdout",
          "output_type": "stream",
          "text": [
            "Value available at index 2 : \n",
            "1997\n",
            "New value available at index 2 : \n",
            "2001\n"
          ]
        }
      ],
      "source": [
        "#Updating a list\n",
        "list = ['physics', 'chemistry', 1997, 2000]\n",
        "print (\"Value available at index 2 : \")\n",
        "print (list[2])\n",
        "list[2] = 2001\n",
        "print (\"New value available at index 2 : \")\n",
        "print (list[2])"
      ]
    },
    {
      "cell_type": "code",
      "execution_count": null,
      "metadata": {
        "id": "B-kOtaJtCTYs",
        "outputId": "dae0c8b1-a765-4e76-f84f-4bb425dbf32f"
      },
      "outputs": [
        {
          "name": "stdout",
          "output_type": "stream",
          "text": [
            "['physics', 'chemistry', 1997, 2000]\n",
            "After deleting value at index 2 : \n",
            "['physics', 'chemistry', 2000]\n"
          ]
        }
      ],
      "source": [
        "#Delete a list \n",
        "list1 = ['physics', 'chemistry', 1997, 2000]\n",
        "print (list1)\n",
        "del list1[2]\n",
        "print (\"After deleting value at index 2 : \")\n",
        "print (list1)"
      ]
    },
    {
      "cell_type": "code",
      "execution_count": null,
      "metadata": {
        "id": "VzvGqslCCTYt",
        "outputId": "9e08044b-bf19-4af5-b3ce-bae2cc67dc50"
      },
      "outputs": [
        {
          "name": "stdout",
          "output_type": "stream",
          "text": [
            "3\n",
            "[1, 2, 3, 4, 5, 6]\n",
            "['Hi!', 'Hi!', 'Hi!', 'Hi!']\n",
            "True\n",
            "1 2 3 "
          ]
        }
      ],
      "source": [
        "#BUILD IN  LIST OPERATIONS3\t\n",
        "print(len([1, 2, 3]))\t\n",
        "print([1, 2, 3] + [4, 5, 6])\t\n",
        "print(['Hi!'] * 4)\n",
        "print(3 in [1, 2, 3])\t\n",
        "for x in [1,2,3] : \n",
        "    print (x,end = ' ')"
      ]
    },
    {
      "cell_type": "code",
      "execution_count": null,
      "metadata": {
        "id": "UAKlQVYNCTYt",
        "outputId": "312a1cae-8de0-401c-c6e5-34673be05164"
      },
      "outputs": [
        {
          "name": "stdout",
          "output_type": "stream",
          "text": [
            "5\n",
            "7\n",
            "1\n",
            "['apple', 'banana', 1987, 1985, 1985, 'mango']\n",
            "2\n"
          ]
        }
      ],
      "source": [
        "#BUILD IN LIST FUNCTIONS & METHODS\n",
        "a=['apple','banana',1987,1985,1985]\n",
        "b=[1,2,3,4,5,6,7]\n",
        "\n",
        "\n",
        "print(len(a))#returns the length of a list\n",
        "print(max(b))# returns maximum value in the list\n",
        "print(min(b))# returns the minimum value in the list\n",
        "\n",
        "a.append('mango')#append another object to the list\n",
        "print(a[:])\n",
        "\n",
        "print(a.count(1985))# Count the number of times the object in the list\n"
      ]
    },
    {
      "cell_type": "code",
      "execution_count": null,
      "metadata": {
        "id": "RSYchU7qCTYu",
        "outputId": "9cbfbe55-3e16-4d9b-98ea-e6a31bf0c19c"
      },
      "outputs": [
        {
          "name": "stdout",
          "output_type": "stream",
          "text": [
            "5\n",
            "['apple', 1987, 1985, 1985, 'mango']\n"
          ]
        }
      ],
      "source": [
        "print(a.index('mango'))\n",
        "\n",
        "a.remove('banana')\n",
        "print(a)\n"
      ]
    },
    {
      "cell_type": "code",
      "execution_count": null,
      "metadata": {
        "id": "1Y90gKOQCTYu",
        "outputId": "095f80c3-222e-4490-f0cb-c27318f65c56"
      },
      "outputs": [
        {
          "name": "stdout",
          "output_type": "stream",
          "text": [
            "[7, 6, 5, 4, 3, 2, 1]\n"
          ]
        }
      ],
      "source": [
        "b.reverse()\n",
        "print(b)"
      ]
    },
    {
      "cell_type": "code",
      "execution_count": null,
      "metadata": {
        "id": "WWqR2QssCTYu",
        "outputId": "0a3db695-9c9a-48f1-8f24-a4cde9de56ec"
      },
      "outputs": [
        {
          "name": "stdout",
          "output_type": "stream",
          "text": [
            "Updated List:  ['a', 'e', 'i', 'o', 'u']\n"
          ]
        }
      ],
      "source": [
        "#inserting the list\n",
        "vowel = ['a', 'e', 'i', 'u']\n",
        "# inserting element to list at 4th position\n",
        "vowel.insert(3, 'o')\n",
        "print('Updated List: ', vowel)"
      ]
    },
    {
      "cell_type": "code",
      "execution_count": null,
      "metadata": {
        "id": "Ro_DX0kjCTYv",
        "outputId": "bf699448-e0bb-4e9a-8577-41867f884fb1"
      },
      "outputs": [
        {
          "name": "stdout",
          "output_type": "stream",
          "text": [
            "Updated animal list:  ['cat', 'dog', 'guinea pig']\n"
          ]
        }
      ],
      "source": [
        "# Remove the particular object in list\n",
        "animal = ['cat', 'dog', 'rabbit', 'guinea pig']\n",
        "# 'rabbit' element is removed\n",
        "animal.remove('rabbit')\n",
        "#Updated Animal List\n",
        "print('Updated animal list: ', animal)"
      ]
    },
    {
      "cell_type": "code",
      "execution_count": null,
      "metadata": {
        "id": "za9bhZQdCTYv",
        "outputId": "f94ee59c-0d58-45e0-e11d-458f699fabff"
      },
      "outputs": [
        {
          "name": "stdout",
          "output_type": "stream",
          "text": [
            "['a', 'x', 'c', 'd']\n",
            "['a', 'b', 'c', 'd']\n"
          ]
        }
      ],
      "source": [
        "#COPY WITH SLICE OPERATOR\n",
        "list1 = ['a','b','c','d']\n",
        "list2 = list1[:]\n",
        "list2[1] = 'x'\n",
        "print(list2)\n",
        "print(list1)"
      ]
    },
    {
      "cell_type": "code",
      "execution_count": null,
      "metadata": {
        "id": "qKEUGohhCTYv",
        "outputId": "a57eb418-8960-4984-bbaf-1515268eeea2"
      },
      "outputs": [
        {
          "name": "stdout",
          "output_type": "stream",
          "text": [
            "['c', 'b', ['ab', 'd']]\n",
            "['a', 'b', ['ab', 'd']]\n"
          ]
        }
      ],
      "source": [
        "#COPY WITH SLICE BUT IT CONTAIN SUBLIST\n",
        "lst1 = ['a','b',['ab','ba']]\n",
        "lst2 = lst1[:]\n",
        "lst2[0] = 'c'\n",
        "lst2[2][1] = 'd'\n",
        "print(lst2)\n",
        "print(lst1)"
      ]
    },
    {
      "cell_type": "code",
      "execution_count": null,
      "metadata": {
        "id": "DpGIqFg-CTYw",
        "outputId": "1abb3155-ea59-4269-e569-470e7d8591d4"
      },
      "outputs": [
        {
          "name": "stdout",
          "output_type": "stream",
          "text": [
            "[1, 2, [7, 5], 4]\n",
            "[1, 2, [7, 5], 4]\n",
            "[1, 2, [3, 5], 4]\n"
          ]
        }
      ],
      "source": [
        "#SHALLOW COPY DEEP COPY\n",
        "\n",
        "import copy \n",
        " # initializing list 1  \n",
        "li1 = [1, 2, [3,5], 4] \n",
        "# using copy for shallow copy   \n",
        "li2 = copy.copy(li1)  \n",
        "# using deepcopy for deepcopy   \n",
        "li3 = copy.deepcopy(li1)  \n",
        "li2[2][0] = 7\n",
        "print(li2)\n",
        "print(li1)\n",
        "print(li3)"
      ]
    },
    {
      "cell_type": "code",
      "execution_count": null,
      "metadata": {
        "id": "faoEQ7wPCTYw",
        "outputId": "b82f77ed-7182-4e3e-db94-ea2299c56425"
      },
      "outputs": [
        {
          "name": "stdout",
          "output_type": "stream",
          "text": [
            "Counter({'A': 4, 'C': 3, 'T': 2, 'G': 1})\n",
            "4\n",
            "4\n",
            "['A', 'C', 'C', 'A', 'T', 'T', 'G', 'A', 'C', 'A']\n",
            "['A', 'C', 'C', 'A', 'T', 'T', 'A', 'C', 'A']\n",
            "['A', 'C', 'A', 'T', 'T', 'A', 'A', 'C', 'C', 'A']\n"
          ]
        }
      ],
      "source": [
        "#Challenge\n",
        "import collections\n",
        "\n",
        "letters =['A','C','C','A','T','T','G','A','C','A']\n",
        "\n",
        "#Analyze the letters\n",
        "print(collections.Counter(letters))\n",
        "\n",
        "#Count A in letters\n",
        "print(letters.count('A'))\n",
        "\n",
        "#Find out first location of letter\"T\"\n",
        "print(letters.index('T'))\n",
        "\n",
        "\n",
        "#Manipulate the letter\n",
        "print(letters[2:])\n",
        "\n",
        "#Copy (DEEP) from original letters to letters2\n",
        " \n",
        "letters2=copy.deepcopy(letters)\n",
        "print(letters2)\n",
        "\n",
        "#Remove G from letters2\n",
        "letters2.remove('G')\n",
        "print(letters2)\n",
        "\n",
        "#Insert A in index 3 in letters2\n",
        "letters2.insert(3,\"A\")\n",
        "\n",
        "#Reverse the order of new letters\n",
        "letters2.reverse()\n",
        "print(letters2)\n"
      ]
    },
    {
      "cell_type": "markdown",
      "metadata": {
        "id": "Wq4s-u6UCTYx"
      },
      "source": [
        "# Tuple"
      ]
    },
    {
      "cell_type": "code",
      "execution_count": null,
      "metadata": {
        "id": "T_GXnD2UCTYx",
        "outputId": "17cb5be2-5dd1-4f00-ef40-147523f1d5d8"
      },
      "outputs": [
        {
          "name": "stdout",
          "output_type": "stream",
          "text": [
            "('apples', 'bananas', 'oranges')\n",
            "['apples', 'bananas', 'oranges']\n",
            "['Berries', 'bananas', 'oranges']\n"
          ]
        }
      ],
      "source": [
        "#Tuple\n",
        "a1 = (\"apples\", \"bananas\", \"oranges\")\n",
        "print(a1)\n",
        "\n",
        "#list\n",
        "b1 = [\"apples\", \"bananas\", \"oranges\"]\n",
        "print(b1)\n",
        "#Difference between tuple and list\n",
        "b1[0]=\"Berries\"\n",
        "print(b1)\n"
      ]
    },
    {
      "cell_type": "code",
      "execution_count": null,
      "metadata": {
        "id": "lMmPoMmrCTYx",
        "outputId": "048b3dfe-228e-4b07-8424-8dd817744e76"
      },
      "outputs": [
        {
          "name": "stdout",
          "output_type": "stream",
          "text": [
            "tup1[0]:  physics\n",
            "tup2[1:5]:  (2, 3, 4, 5)\n"
          ]
        }
      ],
      "source": [
        "#Accessing Tuples\n",
        "tup1 = ('physics', 'chemistry', 1997, 2000)\n",
        "tup2 = (1, 2, 3, 4, 5, 6, 7 )\n",
        "print (\"tup1[0]: \", tup1[0])\n",
        "print (\"tup2[1:5]: \", tup2[1:5])"
      ]
    },
    {
      "cell_type": "code",
      "execution_count": null,
      "metadata": {
        "id": "OH-rEsilCTYy",
        "outputId": "d6bbef3d-4291-46d5-b8d3-dfd2148e8faf"
      },
      "outputs": [
        {
          "ename": "TypeError",
          "evalue": "'tuple' object does not support item assignment",
          "output_type": "error",
          "traceback": [
            "\u001b[1;31m---------------------------------------------------------------------------\u001b[0m",
            "\u001b[1;31mTypeError\u001b[0m                                 Traceback (most recent call last)",
            "\u001b[1;32m<ipython-input-79-db2143b79187>\u001b[0m in \u001b[0;36m<module>\u001b[1;34m\u001b[0m\n\u001b[0;32m      1\u001b[0m \u001b[1;31m#Updating Tuples\u001b[0m\u001b[1;33m\u001b[0m\u001b[1;33m\u001b[0m\u001b[1;33m\u001b[0m\u001b[0m\n\u001b[0;32m      2\u001b[0m \u001b[0mtup\u001b[0m\u001b[1;33m=\u001b[0m\u001b[1;33m(\u001b[0m\u001b[1;36m12\u001b[0m\u001b[1;33m,\u001b[0m\u001b[1;36m34.56\u001b[0m\u001b[1;33m)\u001b[0m\u001b[1;33m\u001b[0m\u001b[1;33m\u001b[0m\u001b[0m\n\u001b[1;32m----> 3\u001b[1;33m \u001b[0mtup\u001b[0m\u001b[1;33m[\u001b[0m\u001b[1;36m0\u001b[0m\u001b[1;33m]\u001b[0m\u001b[1;33m=\u001b[0m\u001b[1;36m100\u001b[0m\u001b[1;33m\u001b[0m\u001b[1;33m\u001b[0m\u001b[0m\n\u001b[0m\u001b[0;32m      4\u001b[0m \u001b[0mprint\u001b[0m\u001b[1;33m(\u001b[0m\u001b[0mtup\u001b[0m\u001b[1;33m)\u001b[0m\u001b[1;33m\u001b[0m\u001b[1;33m\u001b[0m\u001b[0m\n",
            "\u001b[1;31mTypeError\u001b[0m: 'tuple' object does not support item assignment"
          ]
        }
      ],
      "source": [
        "#Updating Tuples\n",
        "tup=(12,34.56)\n",
        "tup[0]=100\n",
        "print(tup)"
      ]
    },
    {
      "cell_type": "code",
      "execution_count": null,
      "metadata": {
        "id": "RRJI_qc8CTYy",
        "outputId": "6073b197-7289-48e7-8227-f6958f73981e"
      },
      "outputs": [
        {
          "name": "stdout",
          "output_type": "stream",
          "text": [
            "3\n",
            "('apples', 'bananas', 'oranges', 1, 2, 3)\n",
            "('apples', 'bananas', 'oranges', 'apples', 'bananas', 'oranges')\n",
            "True\n",
            "1\n",
            "2\n",
            "3\n"
          ]
        }
      ],
      "source": [
        "#TUPLE OPERATIONS\n",
        "a2=(\"apples\", \"bananas\", \"oranges\")\n",
        "a3=(1,2,3)\n",
        "print(len(a2))#length\n",
        "print(a2+a3)#concatenation\n",
        "print(a2*2)#Repetition\n",
        "print('apples' in a2)#Membership\n",
        "for x in (1,2,3):\n",
        "    print(x)# iteration\n"
      ]
    },
    {
      "cell_type": "code",
      "execution_count": null,
      "metadata": {
        "id": "0WsGSAV3CTYy",
        "outputId": "e2c44437-eae1-4a09-aa65-db9e36b9b97e"
      },
      "outputs": [
        {
          "name": "stdout",
          "output_type": "stream",
          "text": [
            "First tuple length :  3\n",
            "Second tuple length :  2\n",
            "min value element :  bio\n",
            "min value element :  200\n",
            "Max value element :  phy\n",
            "Max value element :  700\n",
            "tuple elements :  ('maths', 'che', 'phy', 'bio')\n"
          ]
        }
      ],
      "source": [
        "#BUILD IN TUPLE FUNCTIONS\n",
        "tuple1, tuple2 = (123, 'xyz', 'zara'), (456, 'abc')\n",
        "print (\"First tuple length : \", len(tuple1))\n",
        "print (\"Second tuple length : \", len(tuple2))\n",
        "tuple1, tuple2 = ('maths', 'che', 'phy', 'bio'), (456, 700, 200)\n",
        "print (\"min value element : \", min(tuple1))\n",
        "print (\"min value element : \", min(tuple2))\n",
        "tuple1, tuple2 = ('maths', 'che', 'phy', 'bio'), (456, 700, 200)\n",
        "print (\"Max value element : \", max(tuple1))\n",
        "print (\"Max value element : \", max(tuple2))\n",
        "list1 = ['maths', 'che', 'phy', 'bio']\n",
        "tuple1 = tuple(list1)\n",
        "print (\"tuple elements : \", tuple1)"
      ]
    },
    {
      "cell_type": "code",
      "execution_count": null,
      "metadata": {
        "id": "oeHIEY_7CTYz",
        "outputId": "4ea112e7-aa54-4c84-864e-d04337fa2b4f"
      },
      "outputs": [
        {
          "name": "stdout",
          "output_type": "stream",
          "text": [
            "(1, 2, 3, 4, 5)\n",
            "(6, 7, 8, 9, 10)\n"
          ]
        }
      ],
      "source": [
        "#Challenge\n",
        "#With a given tuple (1, 2, 3, 4, 5, 6, 7, 8, 9, 10)\n",
        "#Write a program to print the first half values in one line and the last half values in one line.\n",
        "tp=(1,2,3,4,5,6,7,8,9,10)\n",
        "\n",
        "tp1=tp[:5]\n",
        "\n",
        "tp2=tp[5:]\n",
        "\n",
        "print(tp1)\n",
        "\n",
        "print(tp2)"
      ]
    },
    {
      "cell_type": "markdown",
      "metadata": {
        "id": "D7h7Z6kJCTYz"
      },
      "source": [
        "# Dictionary"
      ]
    },
    {
      "cell_type": "code",
      "execution_count": null,
      "metadata": {
        "id": "Ia_Wqvq8CTYz"
      },
      "outputs": [],
      "source": [
        "d1 = dict(a=1, b=2)\n",
        "d2 = {'a': 1, 'b': -1}\n",
        "d3 = dict(zip(['a', 'b'], [1, 2]))\n",
        "d4 = dict([('a', 1), ('b', 3)])\n",
        "d5 = dict({'b': 2, 'a': 1})"
      ]
    },
    {
      "cell_type": "code",
      "execution_count": null,
      "metadata": {
        "id": "pOGDqgayCTY0",
        "outputId": "f341b986-a5ed-40e8-d20a-097103d2a98f"
      },
      "outputs": [
        {
          "name": "stdout",
          "output_type": "stream",
          "text": [
            "{'a': 1, 'b': 2}\n",
            "{'a': 1, 'b': -1}\n",
            "{'a': 1, 'b': 2}\n",
            "{'a': 1, 'b': 3}\n",
            "{'b': 2, 'a': 1}\n"
          ]
        }
      ],
      "source": [
        "print(d1)\n",
        "print(d2)\n",
        "print(d3)\n",
        "print(d4)\n",
        "print(d5)"
      ]
    },
    {
      "cell_type": "code",
      "execution_count": null,
      "metadata": {
        "id": "z4VIfxvjCTY0",
        "outputId": "87cb964b-d91a-42c0-cda2-4ac39ce7033b"
      },
      "outputs": [
        {
          "name": "stdout",
          "output_type": "stream",
          "text": [
            "dict1['Name']:  Zara\n",
            "dict1['Age']:  7\n"
          ]
        }
      ],
      "source": [
        "#Accessing Values in Dictionary\n",
        "dict1 = {'Name': 'Zara', 'Age': 7, 'Class':'First'}\n",
        "print (\"dict1['Name']: \", dict1['Name'])\n",
        "print (\"dict1['Age']: \", dict1['Age'])"
      ]
    },
    {
      "cell_type": "code",
      "execution_count": null,
      "metadata": {
        "id": "QtysdhI-CTY0",
        "outputId": "3b7cf4dc-0e55-4a1e-9d59-28767de113d1"
      },
      "outputs": [
        {
          "name": "stdout",
          "output_type": "stream",
          "text": [
            "dict1['Age']:  8\n",
            "dict1['School']:  DPS School\n"
          ]
        }
      ],
      "source": [
        "#Update Dictionary\n",
        "dict1 = {'Name': 'Zara', 'Age': 7, 'Class': 'First'}\n",
        "dict1['Age'] = 8 # update existing entry\n",
        "dict1['School'] = \"DPS School\" # Add new entry\n",
        "\n",
        "print (\"dict1['Age']: \", dict1['Age'])\n",
        "print (\"dict1['School']: \", dict1['School'])"
      ]
    },
    {
      "cell_type": "code",
      "execution_count": null,
      "metadata": {
        "id": "BhoZM4FUCTY0",
        "outputId": "d514367f-a5c1-4cd4-a62c-414b9ce4619d"
      },
      "outputs": [
        {
          "name": "stdout",
          "output_type": "stream",
          "text": [
            "{'Age': 7, 'Class': 'First'}\n",
            "{}\n"
          ]
        },
        {
          "ename": "NameError",
          "evalue": "name 'dict1' is not defined",
          "output_type": "error",
          "traceback": [
            "\u001b[1;31m---------------------------------------------------------------------------\u001b[0m",
            "\u001b[1;31mNameError\u001b[0m                                 Traceback (most recent call last)",
            "\u001b[1;32m<ipython-input-89-f1fe13a6a80e>\u001b[0m in \u001b[0;36m<module>\u001b[1;34m\u001b[0m\n\u001b[0;32m      6\u001b[0m \u001b[0mprint\u001b[0m\u001b[1;33m(\u001b[0m\u001b[0mdict1\u001b[0m\u001b[1;33m)\u001b[0m\u001b[1;33m\u001b[0m\u001b[1;33m\u001b[0m\u001b[0m\n\u001b[0;32m      7\u001b[0m \u001b[1;32mdel\u001b[0m \u001b[0mdict1\u001b[0m \u001b[1;31m# delete entire dictionary\u001b[0m\u001b[1;33m\u001b[0m\u001b[1;33m\u001b[0m\u001b[0m\n\u001b[1;32m----> 8\u001b[1;33m \u001b[0mprint\u001b[0m\u001b[1;33m(\u001b[0m\u001b[0mdict1\u001b[0m\u001b[1;33m)\u001b[0m\u001b[1;33m\u001b[0m\u001b[1;33m\u001b[0m\u001b[0m\n\u001b[0m",
            "\u001b[1;31mNameError\u001b[0m: name 'dict1' is not defined"
          ]
        }
      ],
      "source": [
        "#Delete Dictionary\n",
        "dict1 = {'Name': 'Zara', 'Age': 7, 'Class': 'First'}\n",
        "del dict1['Name'] # remove entry with key 'Name'\n",
        "print(dict1)\n",
        "dict1.clear() # remove all entries in dict\n",
        "print(dict1)\n",
        "del dict1 # delete entire dictionary\n",
        "print(dict1)"
      ]
    },
    {
      "cell_type": "code",
      "execution_count": null,
      "metadata": {
        "id": "--AmQQIeCTY1",
        "outputId": "412a4b39-9720-4d3f-f16c-1a9f1ae011d5"
      },
      "outputs": [
        {
          "name": "stdout",
          "output_type": "stream",
          "text": [
            "16\n",
            "{1: 1, 2: 4, 3: 9, 5: 25}\n",
            "(5, 25)\n",
            "{1: 1, 2: 4, 3: 9}\n",
            "{1: 1, 2: 4}\n"
          ]
        }
      ],
      "source": [
        "#Dictionary Buil-In Functions\n",
        "\n",
        "# create a dictionary\n",
        "squares = {1:1, 2:4, 3:9, 4:16, 5:25} \n",
        "# remove a particular item\n",
        "# Output: 16\n",
        "print(squares.pop(4))  \n",
        "\n",
        "# Output: {1: 1, 2: 4, 3: 9, 5: 25}\n",
        "print(squares)\n",
        "\n",
        "# remove an arbitrary item\n",
        "# Output: (1, 1)\n",
        "print(squares.popitem())\n",
        "\n",
        "# Output: {2: 4, 3: 9, 5: 25}\n",
        "print(squares)\n",
        "\n",
        "del squares[3]\n",
        "print(squares)"
      ]
    },
    {
      "cell_type": "code",
      "execution_count": null,
      "metadata": {
        "id": "tbCnVf-FCTY1",
        "outputId": "c7362faa-d46c-4483-dfc7-0aaf2b76c12d"
      },
      "outputs": [
        {
          "name": "stdout",
          "output_type": "stream",
          "text": [
            "{'name': 'Jack', 'age': 27}\n",
            "{'name': 'Jack', 'age': 27, 'address': 'Downtown'}\n",
            "Name:  Phill\n",
            "Age:  22\n",
            "Salary:  None\n",
            "Salary:  10\n",
            "{'name': 'Phill', 'age': 22}\n"
          ]
        }
      ],
      "source": [
        "#insert and update elements in a dictionary\n",
        "my_dict = {'name':'Jack', 'age': 26}\n",
        "\n",
        "# update value\n",
        "my_dict['age'] = 27\n",
        "\n",
        "#Output: {'age': 27, 'name': 'Jack'}\n",
        "print(my_dict)\n",
        "\n",
        "# add item\n",
        "my_dict['address'] = 'Downtown'  \n",
        "print(my_dict)\n",
        "\n",
        "\n",
        "#get in dictionary\n",
        "person = {'name': 'Phill', 'age': 22}\n",
        "\n",
        "print('Name: ', person.get('name'))\n",
        "print('Age: ', person.get('age'))\n",
        "\n",
        "# value is not provided\n",
        "print('Salary: ', person.get('salary'))\n",
        "\n",
        "# value is provided\n",
        "print('Salary: ', person.get('salary', 10))\n",
        "print(person)"
      ]
    },
    {
      "cell_type": "code",
      "execution_count": null,
      "metadata": {
        "id": "qo9v6frtCTY1"
      },
      "outputs": [],
      "source": [
        "#Copy in DIctionary\n",
        "#copy in dictionary\n",
        "#SHALLOW COPY\n",
        "wordsDict = {\n",
        "    \"Hello\": 56,\n",
        "    \"at\" : 23 ,\n",
        "    \"test\" : 43,\n",
        "    \"this\" : 43,\n",
        "    \"who\" : [56, 34, 44]\n",
        "    }\n",
        "newDict = wordsDict.copy()\n",
        "newDict[\"at\"] = 200\n",
        "newDict[\"who\"].append(222)\n",
        "print(newDict)\n",
        "print(wordsDict)\n",
        "\n",
        "\n",
        "#Deep copy in dictionary\n",
        "\n",
        "from copy import deepcopy\n",
        "wordsDict = {\n",
        "    \"Hello\": 56,\n",
        "    \"at\" : 23 ,\n",
        "    \"test\" : 43,\n",
        "    \"this\" : 43,\n",
        "    \"who\" : [56, 34, 44]\n",
        "    }\n",
        "# Create a deep copy of the dictionary\n",
        "newDict = deepcopy(wordsDict)\n",
        "newDict[\"at\"] = 200\n",
        "newDict[\"who\"].append(100)\n",
        "print(newDict)\n",
        "print(wordsDict)\n"
      ]
    },
    {
      "cell_type": "code",
      "execution_count": null,
      "metadata": {
        "id": "KzFNKTWaCTY2"
      },
      "outputs": [],
      "source": [
        "#Challenge\n",
        "\n",
        "thisdict = dict('apple'=\"green\", 'banana'=\"yellow\", 'cherry'=\"red\")\n",
        "\n",
        "#Remove apple\n",
        "print(thisdict.pop('apple'))\n",
        "print(thisdict)\n",
        "\n",
        "#Add durian\n",
        "thisdict['durian'=\"green\"]\n",
        "print(thisdict)\n",
        "\n",
        "#How many elements?\n",
        "print(len(thisdict))\n",
        "\n",
        "\n",
        "#Create a shallow copy\n",
        "newDict = thisdict.copy()\n",
        "newDict[\"grapes\"] = \"green\"\n",
        "print(newDict)\n",
        "print(thisDict)\n",
        "\n",
        "#Create a deep copy\n",
        "newDict1 = deepcopy(thisdict)\n",
        "newDict1[\"grapes\"] = \"green\"\n",
        "print(newDict1)\n",
        "print(thisDict)"
      ]
    },
    {
      "cell_type": "markdown",
      "metadata": {
        "id": "vlConEWICTY2"
      },
      "source": [
        "# Set"
      ]
    },
    {
      "cell_type": "code",
      "execution_count": null,
      "metadata": {
        "id": "KJzq8g-HCTY2"
      },
      "outputs": [],
      "source": [
        "#SET\n",
        "A = {1, 2, 3}\n",
        "B = {1, 2, 3, 4, 5}\n",
        "C = {1, 2, 4, 5}"
      ]
    },
    {
      "cell_type": "code",
      "execution_count": null,
      "metadata": {
        "id": "KrJSGiHRCTY2"
      },
      "outputs": [],
      "source": [
        "#Built in functions\n",
        "\n",
        "print(A.issubset(B))\n",
        "print(B.issubset(A))\n",
        "print(A.intersection(B))# This can be print(A & B)\n",
        "print(A.union(B)) #This can be  print(A | B)\n",
        "print(A.difference(C))#This can be  print(A - B)\n",
        "print(A in B)\n",
        "print(B not in A)\n",
        "print(B.issuperset(A))\n"
      ]
    },
    {
      "cell_type": "code",
      "execution_count": null,
      "metadata": {
        "id": "thF7O4iPCTY3"
      },
      "outputs": [],
      "source": [
        "#Challenge\n",
        "engineers = set(['John', 'Jane', 'Jack', 'Janice'])\n",
        "programmers = set(['Jack', 'Sam', 'Susan', 'Janice'])\n",
        "managers = set(['Jane', 'Jack', 'Susan', 'Zack'])\n",
        "\n",
        "\n",
        "#Who are employees?\n",
        "employees = engineers | programmers | managers   \n",
        "print(employees)\n",
        "\n",
        "#Who are engineers and managers?\n",
        "engineering_management = engineers & managers   \n",
        "print(engineering_management)"
      ]
    },
    {
      "cell_type": "markdown",
      "metadata": {
        "id": "xvBEiCLXCTY3"
      },
      "source": [
        "# Strings"
      ]
    },
    {
      "cell_type": "code",
      "execution_count": null,
      "metadata": {
        "id": "40rmyrIPCTY3"
      },
      "outputs": [],
      "source": [
        "a = \"Hello\"\n",
        "b = \"Python\"\n",
        "print(a)\n",
        "print(b)"
      ]
    },
    {
      "cell_type": "code",
      "execution_count": null,
      "metadata": {
        "id": "WPO0XnYkCTY3"
      },
      "outputs": [],
      "source": [
        "var1 = 'Hello World!'\n",
        "var2 = \"Python Programming\"\n",
        "print (\"var1[0]: \", var1[0])\n",
        "print (\"var2[1:5]: \", var2[1:5])"
      ]
    },
    {
      "cell_type": "code",
      "execution_count": null,
      "metadata": {
        "id": "DW49HfZyCTY4"
      },
      "outputs": [],
      "source": [
        "#string concatenation\n",
        "str1 = 'Hello'\n",
        "str2 ='World!'\n",
        "\n",
        "# using +\n",
        "print('str1 + str2 = ', str1 + \"  \" +str2)\n",
        "\n",
        "# using *\n",
        "print('str1 * 3 =', str1 * 3)\n",
        "\n",
        "#string Iteration\n",
        "count = 0\n",
        "for letter in 'Hello World':\n",
        "    if(letter == 'l'):\n",
        "        count += 1\n",
        "print(count,'letters found')\n",
        "\n",
        "\n",
        "\n",
        "#string membership\n",
        "print('a' in 'program')\n",
        "print('at' not in 'battle')"
      ]
    },
    {
      "cell_type": "code",
      "execution_count": null,
      "metadata": {
        "id": "lboD1fMCCTY4"
      },
      "outputs": [],
      "source": [
        "#other string functions\n",
        "st=\"saranya\"\n",
        "print(st.capitalize())\n",
        "#find the position\n",
        "str1 = \"this is string example....wow!!!\";\n",
        "str2 = \"exam\";\n",
        "print(str1.find(str2))\n",
        "print(str1.find(str2, 9))\n",
        "print(str1.find(str2, 20))\n",
        "# checks endswith\n",
        "str = \"this is string example....wow!!!\";\n",
        "suffix = \"wow!!!\";\n",
        "print(str.endswith(suffix))\n",
        "print(str.endswith(suffix,20))\n",
        "\n",
        "#replace\n",
        "str = \"this is string example....wow!!! this is really string\"\n",
        "print(str.replace(\"is\", \"was\"))\n",
        "print(str.replace(\"is\", \"was\", 3))\n",
        "#split\n",
        "str = \"Line1-abcdef \\nLine2-abc \\nLine4-abcd\";\n",
        "print(str.split( ))\n",
        "print(str.split(' ', 1 ))\n",
        "#swapcase\n",
        "str = \"this is string example....wow!!!\";\n",
        "print(str.swapcase())\n",
        "str = \"THIS IS STRING EXAMPLE....WOW!!!\";\n",
        "print(str.swapcase())\n",
        "#Title\n",
        "str = \"this is string example....wow!!!\";\n",
        "print(str.title())"
      ]
    },
    {
      "cell_type": "code",
      "execution_count": null,
      "metadata": {
        "id": "wo9gbS3bCTY5"
      },
      "outputs": [],
      "source": [
        "#String Formatting\n",
        "name = \"John\"\n",
        "print(\"Hello, %s!\" % name)\n",
        "print(\"Hello, {}!\" .format(name))\n",
        "print(f \"Hello, {name}!\")\n",
        "\n",
        "#Old Style\n",
        "template = \"%s is %d years old.\"\n",
        "name = \"John\"\n",
        "age = 23\n",
        "print(template % (name, age)) # This prints out \"John is 23 years old.\"\n",
        "\n",
        "template = \"A list: %s\"\n",
        "mylist = [1,2,3]\n",
        "print(template % mylist)\n",
        "\n",
        "#New Style\n",
        "template = \"{} + {} = {}\"\n",
        "a = 3.4567\n",
        "b = 4\n",
        "c = a +b\n",
        "print(template.format (a, b, c))\n",
        "\n",
        "template = \"{1} + {0} = {2}\"\n",
        "print(template.format(a, b, c))\n",
        "\n",
        "\n",
        "template = \"{:0.2f} + {:0.2f} = {:0.2f}\"\n",
        "print(template.format (a, b, c))\n",
        "\n",
        "template = \"{0:0.2f} + {1:0.2f} = {2:0.2f}\"\n",
        "print(template.format (a, b, c))"
      ]
    },
    {
      "cell_type": "code",
      "execution_count": null,
      "metadata": {
        "id": "936xDe8hCTY5"
      },
      "outputs": [],
      "source": [
        "#Challenge\n",
        "\n",
        "a = 'abc@def.com'\n",
        "#Print out the user name and domain name\n",
        "print(a.split('@'))\n"
      ]
    },
    {
      "cell_type": "code",
      "execution_count": null,
      "metadata": {
        "id": "G3-m7nxACTY5"
      },
      "outputs": [],
      "source": [
        "#Challenge\n",
        "\n",
        "#You have to write a format string which prints out the following sentence:\n",
        "\n",
        "#Hello John Doe. Your current balance is $53.44\n",
        "\n",
        "#Given this data tuple\n",
        "data = (\"John\", \"Doe\", 53.44)\n",
        "format_string = \"Hello %s %s. Your current balance is $%s.\"\n",
        "print(format_string % data)\n",
        "#OR\n",
        "data=(\"John\",\"Doe\",53.44)\n",
        "format_string=\"Hello\"\n",
        "print(\"{0} {1} {2} Your current balance is {3}\".format(format_string,*data))# *data unpacks the content of data"
      ]
    },
    {
      "cell_type": "code",
      "execution_count": null,
      "metadata": {
        "id": "gvJfETFGCTY5"
      },
      "outputs": [],
      "source": [
        "#Challenge\n",
        "\n",
        "country = \"France\"\n",
        "capital = \"paris\"\n",
        "\n",
        "#Print out the following sentence using {} method\n",
        "#The capital of FRANCE is Paris\n",
        "\n",
        "print(\"The capital of {0} is {1}\".format(country,capital))\n"
      ]
    },
    {
      "cell_type": "markdown",
      "metadata": {
        "id": "kL1yN_1bCTY6"
      },
      "source": [
        "# Operators"
      ]
    },
    {
      "cell_type": "code",
      "execution_count": null,
      "metadata": {
        "id": "rL2yTAEzCTY6"
      },
      "outputs": [],
      "source": [
        " #1: Arithmetic operators in Python\n",
        "x = 15\n",
        "y = 4\n",
        "print(x+y)\n",
        "print(x-y)\n",
        "print(x*y)\n",
        "print(x/y)\n",
        "print(x//y)\n",
        "print(x**y)\n"
      ]
    },
    {
      "cell_type": "code",
      "execution_count": null,
      "metadata": {
        "id": "59g-NcPoCTY6"
      },
      "outputs": [],
      "source": [
        "#2: Comparison operators in Python\n",
        "x = 10\n",
        "y = 12\n",
        "print(x>y)#False\n",
        "print(x<y)#true\n",
        "print(x==y)#false\n",
        "print(x!=y)#true\n",
        "print(x>=y)#false\n",
        "print(x<=y)#true"
      ]
    },
    {
      "cell_type": "code",
      "execution_count": null,
      "metadata": {
        "id": "ISg4Ojw4CTY7"
      },
      "outputs": [],
      "source": [
        "#3: Logical Operators in Python\n",
        "x = True\n",
        "y = False\n",
        "print(x and y)#false\n",
        "print(x or y)#true\n",
        "print(not x)#false\n"
      ]
    },
    {
      "cell_type": "code",
      "execution_count": null,
      "metadata": {
        "id": "ArVJ4_H0CTY7"
      },
      "outputs": [],
      "source": [
        "#4: Identity operators in Python\n",
        "x1 = 5\n",
        "y1 = 5\n",
        "x2 = 'Hello'\n",
        "y2 = 'Hello'\n",
        "print(x1 is not y1)#false\n",
        "print(x2 is y2)#true"
      ]
    },
    {
      "cell_type": "code",
      "execution_count": null,
      "metadata": {
        "id": "hF23s_fICTY7"
      },
      "outputs": [],
      "source": [
        "#5: Membership operators in Python\n",
        "x = 'Hello world'\n",
        "print('H' in x)#true\n",
        "print('hello' not in x)#true"
      ]
    },
    {
      "cell_type": "code",
      "execution_count": null,
      "metadata": {
        "id": "2q25gwWGCTY8"
      },
      "outputs": [],
      "source": [
        "# Assignment OPerators\n",
        "\n",
        "q=5\n",
        "s=6\n",
        "s+=q#s=s+q\n",
        "print(s)\n",
        "s-=q#s=s-q\n",
        "print(s)\n",
        "s*=q#s=s*q\n",
        "print(s)"
      ]
    },
    {
      "cell_type": "code",
      "execution_count": null,
      "metadata": {
        "id": "-_9vl3SuCTY8"
      },
      "outputs": [],
      "source": [
        "#OPERATOR PRECEDENCE\n",
        "a = 20; b = 10; c = 15; d = 5\n",
        "e = (a + b) * c / d #( 30 * 15 ) / 5\n",
        "print (e)\n",
        "e = ((a + b) * c) / d # (30 * 15 ) / 5\n",
        "print (e)\n",
        "e = (a + b) * (c / d)\n",
        "print (e)"
      ]
    },
    {
      "cell_type": "markdown",
      "metadata": {
        "id": "39p9XomfCTY8"
      },
      "source": [
        "# Control Structures"
      ]
    },
    {
      "cell_type": "code",
      "execution_count": null,
      "metadata": {
        "id": "e-pzgI-9CTY8"
      },
      "outputs": [],
      "source": [
        "#IF-ELSE\n",
        "\n",
        "a=5\n",
        "b=3\n",
        "if a < b:\n",
        " print(\"a is smaller than b\")\n",
        "else:\n",
        " print(\"a is larger than b\")\n",
        "\n"
      ]
    },
    {
      "cell_type": "code",
      "execution_count": null,
      "metadata": {
        "id": "A5Y1yzGRCTY9"
      },
      "outputs": [],
      "source": [
        "#if else if\n",
        "a=input('Enter the value of a')\n",
        "b=input('Enter the value of b')\n",
        "c=input('Enter the value of c')\n",
        "if(a>b and a>c):\n",
        "    print(\"a is bigger\")\n",
        "elif(b>c):\n",
        "    print(\"b is bigger\")\n",
        "else:\n",
        "    print(\"c is bigger\")"
      ]
    },
    {
      "cell_type": "code",
      "execution_count": null,
      "metadata": {
        "id": "fShg_jzlCTY9"
      },
      "outputs": [],
      "source": [
        "#TERNARY OPERATOR\n",
        "    \n",
        "order_total = 200\n",
        "discount = 25 if order_total > 100 else 0\n"
      ]
    },
    {
      "cell_type": "code",
      "execution_count": null,
      "metadata": {
        "id": "EKaalq_VCTY9"
      },
      "outputs": [],
      "source": [
        "#Challenge\n",
        "\n",
        "grade = input('What is your grade(\"A\",\"B\",\"C\":)')\n",
        "if(grade=='A'):\n",
        "    print(\"Excellent\")\n",
        "elif(grade=='B'):\n",
        "    print(\"Well Done\")\n",
        "elif(grade=='C'):\n",
        "    print(\"Work Harder\")\n",
        "else:    \n",
        "    print(\"I don't know your grade\")"
      ]
    },
    {
      "cell_type": "markdown",
      "metadata": {
        "id": "j9DItS8tCTY9"
      },
      "source": [
        "# Looping Statements"
      ]
    },
    {
      "cell_type": "code",
      "execution_count": null,
      "metadata": {
        "id": "GRLIOcw7CTY9"
      },
      "outputs": [],
      "source": [
        "\n",
        "#while  \n",
        "a=1\n",
        "while(a<10):\n",
        "    print(a)\n",
        "    a=a+1\n",
        "    "
      ]
    },
    {
      "cell_type": "code",
      "execution_count": null,
      "metadata": {
        "id": "xEWDrDwoCTY-"
      },
      "outputs": [],
      "source": [
        "#FOR   \n",
        "for x in [1, 2, 3, 4, 5]:\n",
        " print(\"x = \",x)\n",
        "fruits = ['Durian', 'Banana','Orange','Apple']\n",
        "for today_fruit in fruits:\n",
        " print (\"Today food is \", today_fruit)"
      ]
    },
    {
      "cell_type": "code",
      "execution_count": null,
      "metadata": {
        "id": "O3Q6S_IRCTY-"
      },
      "outputs": [],
      "source": [
        "#Range Function\n",
        "a=set(range(1,5,2))\n",
        "print(a)\n",
        "b=list(range(-10,1,1))\n",
        "print(b)\n",
        "\n",
        "\n",
        "a = []\n",
        "for i in range(1,11):\n",
        " a.append(i*i)"
      ]
    },
    {
      "cell_type": "code",
      "execution_count": null,
      "metadata": {
        "id": "h04Sok6pCTY-"
      },
      "outputs": [],
      "source": [
        "#ENUMERATE\n",
        " person = ['Alfred', 'Ally', 'Belinda']\n",
        "height = [170, 160, 155]\n",
        "for i, name in enumerate(person):\n",
        " h = height[i]\n",
        " print(\"The height of {} is {}cm\".format(name, h))\n"
      ]
    },
    {
      "cell_type": "code",
      "execution_count": null,
      "metadata": {
        "id": "TAqT0E36CTY-"
      },
      "outputs": [],
      "source": [
        "#Zip\n",
        "a=[1,2,3,4,5]\n",
        "b=['a','b','c','d']\n",
        "c=zip(a,b)\n",
        "for i,j in c:\n",
        "    print(i,j)\n",
        "    "
      ]
    },
    {
      "cell_type": "code",
      "execution_count": null,
      "metadata": {
        "id": "iWHIJzU9CTY-"
      },
      "outputs": [],
      "source": [
        "#BREAK\n",
        "for letter in 'Python':\n",
        " if letter == 'h':\n",
        "  break\n",
        " print ('Current Letter :', letter)\n"
      ]
    },
    {
      "cell_type": "code",
      "execution_count": null,
      "metadata": {
        "id": "AOsl4MjMCTY_"
      },
      "outputs": [],
      "source": [
        "#CONTINUE\n",
        "for letter in 'Python':\n",
        " if letter == 'h':\n",
        "  continue\n",
        " print ('Current Letter :', letter)\n",
        " "
      ]
    },
    {
      "cell_type": "code",
      "execution_count": null,
      "metadata": {
        "id": "mifdiT-bCTY_"
      },
      "outputs": [],
      "source": [
        "#ELSE IN LOOP\n",
        " x = [1, 2, 3, 4] \n",
        " for i in x: \n",
        "     if i % 5 == 0: \n",
        "         break \n",
        "         print(i) \n",
        "     else: \n",
        "      print(\"no break\")\n",
        "     "
      ]
    },
    {
      "cell_type": "code",
      "execution_count": null,
      "metadata": {
        "id": "sp3rbhTDCTY_"
      },
      "outputs": [],
      "source": [
        "#Challenge\n",
        "#Write a program which will find all such numbers which are divisible by 7 but are not a multiple of 5, between 2000 and 3200(both included)\n",
        "for x in range(2000,3201):\n",
        "    if((x%7==0)and(x%5!=0)):\n",
        "        print(x)\n",
        "x=7\n",
        "\n"
      ]
    },
    {
      "cell_type": "code",
      "execution_count": null,
      "metadata": {
        "id": "lGBHIXxQCTY_"
      },
      "outputs": [],
      "source": [
        "#5*4*3*2*1(factorial formula)\n",
        "#7*6*5*4*3*2*1\n",
        "\n",
        "#or\n",
        "#1*2*3*4*5*6*7\n",
        "#1*2*3*4*5\n",
        "\n",
        "#Write a program which can compute the factorial of a givennumber.\n",
        "n=5#similar to x=5\n",
        "f=1#initialization\n",
        "for x in range(1,n+1):#(1,6)\n",
        "    f=f*x\n",
        "print(f)"
      ]
    }
  ],
  "metadata": {
    "kernelspec": {
      "display_name": "Python 3",
      "language": "python",
      "name": "python3"
    },
    "language_info": {
      "codemirror_mode": {
        "name": "ipython",
        "version": 3
      },
      "file_extension": ".py",
      "mimetype": "text/x-python",
      "name": "python",
      "nbconvert_exporter": "python",
      "pygments_lexer": "ipython3",
      "version": "3.7.4"
    },
    "colab": {
      "name": "Day1.ipynb",
      "provenance": [],
      "include_colab_link": true
    }
  },
  "nbformat": 4,
  "nbformat_minor": 0
}